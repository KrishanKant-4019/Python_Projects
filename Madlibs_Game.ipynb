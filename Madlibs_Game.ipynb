{
 "cells": [
  {
   "cell_type": "code",
   "execution_count": null,
   "id": "7222ed6b-9d83-465c-9c0a-c38e2df4a978",
   "metadata": {},
   "outputs": [
    {
     "name": "stdout",
     "output_type": "stream",
     "text": [
      "Welcome to the Mad Libs Game!\n",
      "Please answer the following prompts:\n",
      "\n"
     ]
    }
   ],
   "source": [
    "print(\"Welcome to the Mad Libs Game!\")\n",
    "print(\"Please answer the following prompts:\\n\")\n",
    "\n",
    "name = input(\"Enter your name: \")\n",
    "adjective_1 = input(\"Enter an adjective (description): \")\n",
    "noun = input(\"Enter a noun: \")\n",
    "place = input(\"Enter a place: \")\n",
    "past_tense_verb = input(\"Enter a past tense verb: \")\n",
    "adjective_2 = input(\"Enter another adjective: \")\n",
    "plural_noun = input(\"Enter a plural noun: \")\n",
    "silly_word = input(\"Enter a silly word: \")\n",
    "number = input(\"Enter a number: \")\n",
    "\n",
    "print(\"\\n Here's your Mad Lib story:\\n\")\n",
    "print(f\"One day, {name} woke up feeling {adjective_1}.\")\n",
    "print(f\"He grabbed a {noun} and ran to {place}.\")\n",
    "print(f\"Suddenly, he {past_tense_verb} into a {adjective_2} pile of {plural_noun}.\")\n",
    "print(f\"Everyone around shouted, \\\"{silly_word}\\\"!\")\n",
    "print(f\"It was the strangest thing to happen in {number} years!\")"
   ]
  }
 ],
 "metadata": {
  "kernelspec": {
   "display_name": "Python [conda env:base] *",
   "language": "python",
   "name": "conda-base-py"
  },
  "language_info": {
   "codemirror_mode": {
    "name": "ipython",
    "version": 3
   },
   "file_extension": ".py",
   "mimetype": "text/x-python",
   "name": "python",
   "nbconvert_exporter": "python",
   "pygments_lexer": "ipython3",
   "version": "3.12.4"
  }
 },
 "nbformat": 4,
 "nbformat_minor": 5
}

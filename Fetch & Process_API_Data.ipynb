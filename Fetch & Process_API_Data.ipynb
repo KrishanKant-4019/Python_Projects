{
 "cells": [
  {
   "cell_type": "code",
   "execution_count": 2,
   "id": "aa4ff7cb-c932-4d11-a746-bca6e61ab82e",
   "metadata": {},
   "outputs": [
    {
     "name": "stdout",
     "output_type": "stream",
     "text": [
      "API Data Fetched Successfully!\n",
      "\n",
      "[\n",
      "    {\n",
      "        \"userId\": 1,\n",
      "        \"id\": 1,\n",
      "        \"title\": \"sunt aut facere repellat provident occaecati excepturi optio reprehenderit\",\n",
      "        \"body\": \"quia et suscipit\\nsuscipit recusandae consequuntur expedita et cum\\nreprehenderit molestiae ut ut quas totam\\nnostrum rerum est autem sunt rem eveniet architecto\"\n",
      "    },\n",
      "    {\n",
      "        \"userId\": 1,\n",
      "        \"id\": 2,\n",
      "        \"title\": \"qui est esse\",\n",
      "        \"body\": \"est rerum tempore vitae\\nsequi sint nihil reprehenderit dolor beatae ea dolores neque\\nfugiat blanditiis voluptate porro vel nihil molestiae ut reiciendis\\nqui aperiam non debitis possimus qui neque nisi nulla\"\n",
      "    },\n",
      "    {\n",
      "        \"userId\": 1,\n",
      "        \"id\": 3,\n",
      "        \"title\": \"ea molestias quasi exercitationem repellat qui ipsa sit aut\",\n",
      "        \"body\": \"et iusto sed quo iure\\nvoluptatem occaecati omnis eligendi aut ad\\nvoluptatem doloribus vel accusantium quis pariatur\\nmolestiae porro eius odio et labore et velit aut\"\n",
      "    },\n",
      "    {\n",
      "        \"userId\": 1,\n",
      "        \"id\": 4,\n",
      "        \"title\": \"eum et est occaecati\",\n",
      "        \"body\": \"ullam et saepe reiciendis voluptatem adipisci\\nsit amet autem assumenda provident rerum culpa\\nquis hic commodi nesciunt rem tenetur doloremque ipsam iure\\nquis sunt voluptatem rerum illo velit\"\n",
      "    },\n",
      "    {\n",
      "        \"userId\": 1,\n",
      "        \"id\": 5,\n",
      "        \"title\": \"nesciunt quas odio\",\n",
      "        \"body\": \"repudiandae veniam quaerat sunt sed\\nalias aut fugiat sit autem sed est\\nvoluptatem omnis possimus esse voluptatibus quis\\nest aut tenetur dolor neque\"\n",
      "    }\n",
      "]\n",
      "\n",
      "Processed data saved to users.json\n"
     ]
    }
   ],
   "source": [
    "import requests\n",
    "import json\n",
    "\n",
    "# API \n",
    "url = \"https://jsonplaceholder.typicode.com/posts\"\n",
    "\n",
    "# Fetch data from API\n",
    "response = requests.get(url)\n",
    "\n",
    "if response.status_code == 200:\n",
    "    data = response.json()\n",
    "    print(\"API Data Fetched Successfully!\\n\")\n",
    "    print(json.dumps(data[:5], indent=4))  # print first 5 posts\n",
    "\n",
    "    # Process data (extract userId and title)\n",
    "    users = []\n",
    "    for post in data:\n",
    "        users.append({\n",
    "            \"userId\": post['userId'],\n",
    "            \"title\": post['title']\n",
    "        })\n",
    "\n",
    "    # Save processed data to JSON\n",
    "    with open(\"users.json\", \"w\") as f:\n",
    "        json.dump(users, f, indent=4)\n",
    "\n",
    "    print(\"\\nProcessed data saved to users.json\")\n",
    "\n",
    "else:\n",
    "    print(f\"Error: Unable to fetch data (Status Code: {response.status_code})\")"
   ]
  },
  {
   "cell_type": "code",
   "execution_count": null,
   "id": "2fb04373-2f80-4e04-92f4-e0ae890df30f",
   "metadata": {},
   "outputs": [],
   "source": []
  }
 ],
 "metadata": {
  "kernelspec": {
   "display_name": "Python [conda env:base] *",
   "language": "python",
   "name": "conda-base-py"
  },
  "language_info": {
   "codemirror_mode": {
    "name": "ipython",
    "version": 3
   },
   "file_extension": ".py",
   "mimetype": "text/x-python",
   "name": "python",
   "nbconvert_exporter": "python",
   "pygments_lexer": "ipython3",
   "version": "3.12.4"
  }
 },
 "nbformat": 4,
 "nbformat_minor": 5
}

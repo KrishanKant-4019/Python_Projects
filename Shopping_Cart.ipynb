{
 "cells": [
  {
   "cell_type": "code",
   "execution_count": 8,
   "id": "a0f6b7a0-9b4b-4ef9-bdae-cc8a2fc65005",
   "metadata": {},
   "outputs": [
    {
     "name": "stdout",
     "output_type": "stream",
     "text": [
      "\n",
      "Menu:\n",
      "1. Show Products\n",
      "2. Add to Cart\n",
      "3. View Cart\n",
      "4. Exit\n"
     ]
    },
    {
     "name": "stdin",
     "output_type": "stream",
     "text": [
      "Enter your choice (1-4):  2\n",
      "\n",
      "Enter product name to add:  apple\n",
      "Enter quantity:  3\n"
     ]
    },
    {
     "name": "stdout",
     "output_type": "stream",
     "text": [
      "3 Apple(s) added to cart.\n",
      "\n",
      "Menu:\n",
      "1. Show Products\n",
      "2. Add to Cart\n",
      "3. View Cart\n",
      "4. Exit\n"
     ]
    },
    {
     "name": "stdin",
     "output_type": "stream",
     "text": [
      "Enter your choice (1-4):  3\n"
     ]
    },
    {
     "name": "stdout",
     "output_type": "stream",
     "text": [
      "\n",
      "Your Cart:\n",
      "Apple: ₹20 x 3 = ₹60\n",
      "\n",
      "Total Amount: ₹60\n",
      "\n",
      "Menu:\n",
      "1. Show Products\n",
      "2. Add to Cart\n",
      "3. View Cart\n",
      "4. Exit\n"
     ]
    },
    {
     "name": "stdin",
     "output_type": "stream",
     "text": [
      "Enter your choice (1-4):  3\n"
     ]
    },
    {
     "name": "stdout",
     "output_type": "stream",
     "text": [
      "\n",
      "Your Cart:\n",
      "Apple: ₹20 x 3 = ₹60\n",
      "\n",
      "Total Amount: ₹60\n",
      "\n",
      "Menu:\n",
      "1. Show Products\n",
      "2. Add to Cart\n",
      "3. View Cart\n",
      "4. Exit\n"
     ]
    },
    {
     "name": "stdin",
     "output_type": "stream",
     "text": [
      "Enter your choice (1-4):  4\n"
     ]
    },
    {
     "name": "stdout",
     "output_type": "stream",
     "text": [
      "\n",
      "Thank you for shopping!\n"
     ]
    }
   ],
   "source": [
    "# Step 1: Products available in the store\n",
    "products = {\n",
    "    \"Apple\": 20,\n",
    "    \"Banana\": 10,\n",
    "    \"Milk\": 30,\n",
    "    \"Bread\": 25,\n",
    "    \"Eggs\": 5\n",
    "}\n",
    "\n",
    "# Step 2: Empty cart\n",
    "cart = {}\n",
    "\n",
    "# Step 3: Show all products\n",
    "def show_products():\n",
    "    print(\"\\nAvailable Products:\")\n",
    "    for item, price in products.items():\n",
    "        print(f\"{item}: ₹{price}\")\n",
    "\n",
    "# Step 4: Add item to cart\n",
    "def add_to_cart():\n",
    "    item = input(\"\\nEnter product name to add: \").title()\n",
    "    if item in products:\n",
    "        qty = int(input(\"Enter quantity: \"))\n",
    "        if item in cart:\n",
    "            cart[item] += qty\n",
    "        else:\n",
    "            cart[item] = qty\n",
    "        print(f\"{qty} {item}(s) added to cart.\")\n",
    "    else:\n",
    "        print(\"Product not found.\")\n",
    "\n",
    "# Step 5: View cart\n",
    "def view_cart():\n",
    "    if not cart:\n",
    "        print(\"\\nYour cart is empty.\")\n",
    "        return\n",
    "    print(\"\\nYour Cart:\")\n",
    "    total = 0\n",
    "    for item, qty in cart.items():\n",
    "        price = products[item]\n",
    "        cost = price * qty\n",
    "        total += cost\n",
    "        print(f\"{item}: ₹{price} x {qty} = ₹{cost}\")\n",
    "    print(f\"\\nTotal Amount: ₹{total}\")\n",
    "\n",
    "# Step 6: Main Menu\n",
    "while True:\n",
    "    print(\"\\nMenu:\\n1. Show Products\\n2. Add to Cart\\n3. View Cart\\n4. Exit\")\n",
    "    choice = input(\"Enter your choice (1-4): \")\n",
    "\n",
    "    if choice == \"1\":\n",
    "        show_products()\n",
    "    elif choice == \"2\":\n",
    "        add_to_cart()\n",
    "    elif choice == \"3\":\n",
    "        view_cart()\n",
    "    elif choice == \"4\":\n",
    "        print(\"\\nThank you for shopping!\")\n",
    "        break\n",
    "    else:\n",
    "        print(\"Invalid choice. Try again.\")"
   ]
  },
  {
   "cell_type": "code",
   "execution_count": null,
   "id": "28a04c7d-d017-4597-8b18-8a4b0d6352c5",
   "metadata": {},
   "outputs": [],
   "source": []
  }
 ],
 "metadata": {
  "kernelspec": {
   "display_name": "Python [conda env:base] *",
   "language": "python",
   "name": "conda-base-py"
  },
  "language_info": {
   "codemirror_mode": {
    "name": "ipython",
    "version": 3
   },
   "file_extension": ".py",
   "mimetype": "text/x-python",
   "name": "python",
   "nbconvert_exporter": "python",
   "pygments_lexer": "ipython3",
   "version": "3.12.4"
  }
 },
 "nbformat": 4,
 "nbformat_minor": 5
}

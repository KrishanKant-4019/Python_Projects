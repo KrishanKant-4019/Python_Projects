{
 "cells": [
  {
   "cell_type": "code",
   "execution_count": 6,
   "id": "007c13a5-72ee-4169-af03-f5d55ad505d3",
   "metadata": {},
   "outputs": [
    {
     "name": "stdout",
     "output_type": "stream",
     "text": [
      "\n",
      "===== To-Do List =====\n",
      "1. View Tasks\n",
      "2. Add Task\n",
      "3. Delete Task\n",
      "4. Exit\n"
     ]
    },
    {
     "name": "stdin",
     "output_type": "stream",
     "text": [
      "Choose an option(1-4):  2\n",
      "Enter task:  Python\n"
     ]
    },
    {
     "name": "stdout",
     "output_type": "stream",
     "text": [
      "Task added.\n",
      "\n",
      "===== To-Do List =====\n",
      "1. View Tasks\n",
      "2. Add Task\n",
      "3. Delete Task\n",
      "4. Exit\n"
     ]
    },
    {
     "name": "stdin",
     "output_type": "stream",
     "text": [
      "Choose an option(1-4):  2\n",
      "Enter task:  ML\n"
     ]
    },
    {
     "name": "stdout",
     "output_type": "stream",
     "text": [
      "Task added.\n",
      "\n",
      "===== To-Do List =====\n",
      "1. View Tasks\n",
      "2. Add Task\n",
      "3. Delete Task\n",
      "4. Exit\n"
     ]
    },
    {
     "name": "stdin",
     "output_type": "stream",
     "text": [
      "Choose an option(1-4):  2\n",
      "Enter task:  SQL\n"
     ]
    },
    {
     "name": "stdout",
     "output_type": "stream",
     "text": [
      "Task added.\n",
      "\n",
      "===== To-Do List =====\n",
      "1. View Tasks\n",
      "2. Add Task\n",
      "3. Delete Task\n",
      "4. Exit\n"
     ]
    },
    {
     "name": "stdin",
     "output_type": "stream",
     "text": [
      "Choose an option(1-4):  3\n",
      "Enter task number to delete:  1\n"
     ]
    },
    {
     "name": "stdout",
     "output_type": "stream",
     "text": [
      "Deleted: Python\n",
      "\n",
      "===== To-Do List =====\n",
      "1. View Tasks\n",
      "2. Add Task\n",
      "3. Delete Task\n",
      "4. Exit\n"
     ]
    },
    {
     "name": "stdin",
     "output_type": "stream",
     "text": [
      "Choose an option(1-4):  1\n"
     ]
    },
    {
     "name": "stdout",
     "output_type": "stream",
     "text": [
      "1. ML\n",
      "2. SQL\n",
      "\n",
      "===== To-Do List =====\n",
      "1. View Tasks\n",
      "2. Add Task\n",
      "3. Delete Task\n",
      "4. Exit\n"
     ]
    },
    {
     "name": "stdin",
     "output_type": "stream",
     "text": [
      "Choose an option(1-4):  4\n"
     ]
    },
    {
     "name": "stdout",
     "output_type": "stream",
     "text": [
      "Goodbye!\n"
     ]
    }
   ],
   "source": [
    "todo_list = []\n",
    "\n",
    "def show_tasks():\n",
    "    if not todo_list:\n",
    "        print(\"No tasks yet.\")\n",
    "    else:\n",
    "        for i, task in enumerate(todo_list, 1):\n",
    "            print(f\"{i}. {task}\")\n",
    "\n",
    "def add_task(task):\n",
    "    todo_list.append(task)\n",
    "    print(\"Task added.\")\n",
    "\n",
    "def delete_task(index):\n",
    "    if 0 < index <= len(todo_list):\n",
    "        removed = todo_list.pop(index - 1)\n",
    "        print(f\"Deleted: {removed}\")\n",
    "    else:\n",
    "        print(\"Invalid task number.\")\n",
    "\n",
    "while True:\n",
    "    print(\"\\n===== To-Do List =====\")\n",
    "    print(\"1. View Tasks\")\n",
    "    print(\"2. Add Task\")\n",
    "    print(\"3. Delete Task\")\n",
    "    print(\"4. Exit\")\n",
    "\n",
    "    choice = input(\"Choose an option(1-4): \")\n",
    "\n",
    "    if choice == '1':\n",
    "        show_tasks()\n",
    "    elif choice == '2':\n",
    "        task = input(\"Enter task: \")\n",
    "        add_task(task)\n",
    "    elif choice == '3':\n",
    "        try:\n",
    "            idx = int(input(\"Enter task number to delete: \"))\n",
    "            delete_task(idx)\n",
    "        except ValueError:\n",
    "            print(\"Please enter a valid number.\")\n",
    "    elif choice == '4':\n",
    "        print(\"Goodbye!\")\n",
    "        break\n",
    "    else:\n",
    "        print(\"Invalid option.\")"
   ]
  },
  {
   "cell_type": "code",
   "execution_count": null,
   "id": "28ecfc99-d5ff-40ce-8c45-366100877758",
   "metadata": {},
   "outputs": [],
   "source": []
  }
 ],
 "metadata": {
  "kernelspec": {
   "display_name": "Python [conda env:base] *",
   "language": "python",
   "name": "conda-base-py"
  },
  "language_info": {
   "codemirror_mode": {
    "name": "ipython",
    "version": 3
   },
   "file_extension": ".py",
   "mimetype": "text/x-python",
   "name": "python",
   "nbconvert_exporter": "python",
   "pygments_lexer": "ipython3",
   "version": "3.12.4"
  }
 },
 "nbformat": 4,
 "nbformat_minor": 5
}

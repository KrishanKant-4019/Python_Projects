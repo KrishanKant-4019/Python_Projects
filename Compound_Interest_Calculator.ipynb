{
 "cells": [
  {
   "cell_type": "code",
   "execution_count": 2,
   "id": "a8cd9733-a7b3-473e-bdcc-917cae68cabc",
   "metadata": {},
   "outputs": [
    {
     "name": "stdin",
     "output_type": "stream",
     "text": [
      "Enter the principal amount:  10000\n",
      "Enter the annual interest rate:  0.08\n",
      "Enter the time in years:  2\n",
      "Enter compounding frequency per year:  1\n"
     ]
    },
    {
     "name": "stdout",
     "output_type": "stream",
     "text": [
      "\n",
      "Results:\n",
      "Total Amount: ₹ 11664.0\n",
      "Compound Interest Earned: ₹ 1664.0\n"
     ]
    }
   ],
   "source": [
    "principal = 0\n",
    "rate = 0\n",
    "time = 0\n",
    "frequency = 0\n",
    "\n",
    "while principal <= 0:\n",
    "    try:\n",
    "        principal = float(input(\"Enter the principal amount: \"))\n",
    "        if principal <= 0:\n",
    "            print(\"Principal can't be less than or equal to zero!\")\n",
    "    except ValueError:\n",
    "        print(\"Please enter a valid number.\")\n",
    "\n",
    "while rate <= 0:\n",
    "    try:\n",
    "        rate = float(input(\"Enter the annual interest rate: \"))\n",
    "        if rate <= 0:\n",
    "            print(\"Interest rate can't be less than or equal to zero!\")\n",
    "    except ValueError:\n",
    "        print(\"Please enter a valid number.\")\n",
    "\n",
    "while time <= 0:\n",
    "    try:\n",
    "        time = float(input(\"Enter the time in years: \"))\n",
    "        if time <= 0:\n",
    "            print(\"Time can't be less than or equal to zero!\")\n",
    "    except ValueError:\n",
    "        print(\"Please enter a valid number.\")\n",
    "\n",
    "while frequency <= 0:\n",
    "    try:\n",
    "        frequency = int(input(\"Enter compounding frequency per year: \"))\n",
    "        if frequency <= 0:\n",
    "            print(\"Frequency can't be less than or equal to zero!\")\n",
    "    except ValueError:\n",
    "        print(\"Please enter a valid whole number.\")\n",
    "\n",
    "total_amount = round(principal * pow((1 + (rate / frequency)), frequency * time), 2)\n",
    "compound_interest = round(total_amount - principal, 2)\n",
    "\n",
    "print(\"\\nResults:\")\n",
    "print(\"Total Amount: ₹\", total_amount)\n",
    "print(\"Compound Interest Earned: ₹\", compound_interest)"
   ]
  },
  {
   "cell_type": "code",
   "execution_count": null,
   "id": "b84ca26b-3da8-4c50-a422-f95d035f1952",
   "metadata": {},
   "outputs": [],
   "source": []
  }
 ],
 "metadata": {
  "kernelspec": {
   "display_name": "Python [conda env:base] *",
   "language": "python",
   "name": "conda-base-py"
  },
  "language_info": {
   "codemirror_mode": {
    "name": "ipython",
    "version": 3
   },
   "file_extension": ".py",
   "mimetype": "text/x-python",
   "name": "python",
   "nbconvert_exporter": "python",
   "pygments_lexer": "ipython3",
   "version": "3.12.4"
  }
 },
 "nbformat": 4,
 "nbformat_minor": 5
}

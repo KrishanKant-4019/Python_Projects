{
 "cells": [
  {
   "cell_type": "code",
   "execution_count": 3,
   "id": "fe3bde66-a907-4e59-8130-01016007c973",
   "metadata": {},
   "outputs": [
    {
     "name": "stdout",
     "output_type": "stream",
     "text": [
      "\n",
      "----------Calculator----------\n",
      "Choose Operation:\n",
      "1. Add(+)\n",
      "2. Subtract(-)\n",
      "3. Multiply(*)\n",
      "4. Divide(/)\n",
      "5. Exit\n"
     ]
    },
    {
     "name": "stdin",
     "output_type": "stream",
     "text": [
      "Enter your choice (+, -, *, /) or 5 to exit:  +\n",
      "Enter first number:  5\n",
      "Enter second number:  6\n"
     ]
    },
    {
     "name": "stdout",
     "output_type": "stream",
     "text": [
      "Result: 11.0\n",
      "\n",
      "----------Calculator----------\n",
      "Choose Operation:\n",
      "1. Add(+)\n",
      "2. Subtract(-)\n",
      "3. Multiply(*)\n",
      "4. Divide(/)\n",
      "5. Exit\n"
     ]
    },
    {
     "name": "stdin",
     "output_type": "stream",
     "text": [
      "Enter your choice (+, -, *, /) or 5 to exit:  -\n",
      "Enter first number:  7\n",
      "Enter second number:  4\n"
     ]
    },
    {
     "name": "stdout",
     "output_type": "stream",
     "text": [
      "Result: 3.0\n",
      "\n",
      "----------Calculator----------\n",
      "Choose Operation:\n",
      "1. Add(+)\n",
      "2. Subtract(-)\n",
      "3. Multiply(*)\n",
      "4. Divide(/)\n",
      "5. Exit\n"
     ]
    },
    {
     "name": "stdin",
     "output_type": "stream",
     "text": [
      "Enter your choice (+, -, *, /) or 5 to exit:  5\n"
     ]
    },
    {
     "name": "stdout",
     "output_type": "stream",
     "text": [
      "Exiting calculator. Goodbye!\n"
     ]
    }
   ],
   "source": [
    "def add(x, y):\n",
    "    return x + y\n",
    "\n",
    "def subtract(x, y):\n",
    "    return x - y\n",
    "\n",
    "def multiply(x, y):\n",
    "    return x * y\n",
    "\n",
    "def divide(x, y):\n",
    "    if y == 0:\n",
    "        return \"Error: Can't divide by zero!\"\n",
    "    return x / y\n",
    "\n",
    "while True:\n",
    "    print(\"\\n----------Calculator----------\")\n",
    "    print(\"Choose Operation:\")\n",
    "    print(\"1. Add(+)\")\n",
    "    print(\"2. Subtract(-)\")\n",
    "    print(\"3. Multiply(*)\")\n",
    "    print(\"4. Divide(/)\")\n",
    "    print(\"5. Exit\")\n",
    "\n",
    "    op = input(\"Enter your choice (+, -, *, /) or 5 to exit: \")\n",
    "\n",
    "    if op == '5':\n",
    "        print(\"Exiting calculator. Goodbye!\")\n",
    "        break\n",
    "\n",
    "    a = float(input(\"Enter first number: \"))\n",
    "    b = float(input(\"Enter second number: \"))\n",
    "\n",
    "    if op == '+':\n",
    "        result = add(a, b)\n",
    "    elif op == '-':\n",
    "        result = subtract(a, b)\n",
    "    elif op == '*':\n",
    "        result = multiply(a, b)\n",
    "    elif op == '/':\n",
    "        result = divide(a, b)\n",
    "    else:\n",
    "        result = \"Invalid Operator!\"\n",
    "\n",
    "    print(\"Result:\", result)"
   ]
  },
  {
   "cell_type": "code",
   "execution_count": null,
   "id": "b9c1b8ec-995b-4854-a905-f1a5b8f9201e",
   "metadata": {},
   "outputs": [],
   "source": []
  }
 ],
 "metadata": {
  "kernelspec": {
   "display_name": "Python [conda env:base] *",
   "language": "python",
   "name": "conda-base-py"
  },
  "language_info": {
   "codemirror_mode": {
    "name": "ipython",
    "version": 3
   },
   "file_extension": ".py",
   "mimetype": "text/x-python",
   "name": "python",
   "nbconvert_exporter": "python",
   "pygments_lexer": "ipython3",
   "version": "3.12.4"
  }
 },
 "nbformat": 4,
 "nbformat_minor": 5
}

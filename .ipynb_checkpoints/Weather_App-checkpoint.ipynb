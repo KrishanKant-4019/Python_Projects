{
 "cells": [
  {
   "cell_type": "code",
   "execution_count": 6,
   "id": "08e53e9a-3c0c-44f5-abcc-b8d276703b8a",
   "metadata": {},
   "outputs": [
    {
     "name": "stdin",
     "output_type": "stream",
     "text": [
      "Enter city name:  Ghaziabad\n"
     ]
    },
    {
     "name": "stdout",
     "output_type": "stream",
     "text": [
      "\n",
      "Weather Details in Ghaziabad, IN:\n",
      "Temperature: 23.98°C\n",
      "Condition: Overcast clouds\n",
      "Humidity: 85%\n",
      "Wind Speed: 3.64 m/s\n"
     ]
    }
   ],
   "source": [
    "import requests\n",
    "\n",
    "def get_weather(city_name):\n",
    "    api_key = \"023e02ec78ffb2f039afa34cdfc3211d\"\n",
    "    url = \"https://api.openweathermap.org/data/2.5/weather\"\n",
    "\n",
    "    params = {\n",
    "        \"q\": city_name,\n",
    "        \"appid\": api_key,\n",
    "        \"units\": \"metric\"\n",
    "    }\n",
    "\n",
    "    try:\n",
    "        response = requests.get(url, params=params)\n",
    "        data = response.json()\n",
    "\n",
    "        if response.status_code == 200:\n",
    "            city = data[\"name\"]\n",
    "            country = data[\"sys\"][\"country\"]\n",
    "            temp = data[\"main\"][\"temp\"]\n",
    "            weather = data[\"weather\"][0][\"description\"]\n",
    "            humidity = data[\"main\"][\"humidity\"]\n",
    "            wind_speed = data[\"wind\"][\"speed\"]\n",
    "\n",
    "            print(f\"\\nWeather Details in {city}, {country}:\")\n",
    "            print(f\"Temperature: {temp}°C\")\n",
    "            print(f\"Condition: {weather.capitalize()}\")\n",
    "            print(f\"Humidity: {humidity}%\")\n",
    "            print(f\"Wind Speed: {wind_speed} m/s\")\n",
    "        else:\n",
    "            print(f\"\\nError: {data.get('message', 'Unknown error').capitalize()}\")\n",
    "\n",
    "    except Exception as e:\n",
    "        print(\"Something went wrong:\", e)\n",
    "\n",
    "if __name__ == \"__main__\":\n",
    "    city = input(\"Enter city name: \")\n",
    "    get_weather(city)"
   ]
  }
 ],
 "metadata": {
  "kernelspec": {
   "display_name": "ML-Kernel",
   "language": "python",
   "name": "my_ml_env"
  },
  "language_info": {
   "codemirror_mode": {
    "name": "ipython",
    "version": 3
   },
   "file_extension": ".py",
   "mimetype": "text/x-python",
   "name": "python",
   "nbconvert_exporter": "python",
   "pygments_lexer": "ipython3",
   "version": "3.12.4"
  }
 },
 "nbformat": 4,
 "nbformat_minor": 5
}

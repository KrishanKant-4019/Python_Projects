{
 "cells": [
  {
   "cell_type": "code",
   "execution_count": 1,
   "id": "ca0c68c4-fc86-4d42-8966-bca130b0d0d9",
   "metadata": {},
   "outputs": [
    {
     "name": "stdin",
     "output_type": "stream",
     "text": [
      "Enter your weight:  80\n",
      "Kilograms or Pounds? (K or L):  K\n"
     ]
    },
    {
     "name": "stdout",
     "output_type": "stream",
     "text": [
      "Your weight is : 176.4 Lbs.\n"
     ]
    }
   ],
   "source": [
    "weight = float(input(\"Enter your weight: \"))\n",
    "unit = input(\"Kilograms or Pounds? (K or L): \")\n",
    "\n",
    "if unit == \"K\":\n",
    "    weight = weight * 2.205\n",
    "    unit = \"Lbs.\"\n",
    "\n",
    "elif unit == \"L\":\n",
    "    weight = weight / 2.205\n",
    "    unit = \"Kgs.\"\n",
    "\n",
    "else:\n",
    "    print(f\"{unit} is not valid!\")\n",
    "\n",
    "print(f\"Your weight is : {weight} {unit}\")"
   ]
  }
 ],
 "metadata": {
  "kernelspec": {
   "display_name": "Python [conda env:base] *",
   "language": "python",
   "name": "conda-base-py"
  },
  "language_info": {
   "codemirror_mode": {
    "name": "ipython",
    "version": 3
   },
   "file_extension": ".py",
   "mimetype": "text/x-python",
   "name": "python",
   "nbconvert_exporter": "python",
   "pygments_lexer": "ipython3",
   "version": "3.12.4"
  }
 },
 "nbformat": 4,
 "nbformat_minor": 5
}

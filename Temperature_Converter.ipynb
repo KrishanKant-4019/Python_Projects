{
 "cells": [
  {
   "cell_type": "code",
   "execution_count": 8,
   "id": "84a35d7e-e524-49e0-b8df-0ae034947fcf",
   "metadata": {},
   "outputs": [
    {
     "name": "stdin",
     "output_type": "stream",
     "text": [
      "Is this temperature in Fahrenheit or Celsius(C/F):  F\n",
      "Enter the temperature:  98.6\n"
     ]
    },
    {
     "name": "stdout",
     "output_type": "stream",
     "text": [
      "The temperature in celsius is: 37.0°C\n"
     ]
    }
   ],
   "source": [
    "unit = input(\"Is this temperature in Fahrenheit or Celsius(C/F): \")\n",
    "temp = float(input(\"Enter the temperature: \"))\n",
    "\n",
    "if unit == \"C\":\n",
    "    temp = round((9 * temp) / 5 + 32, 1)\n",
    "    print(f\"The temperature in fahrenheit is: {temp}°F\")\n",
    "\n",
    "elif unit == \"F\":\n",
    "    temp = round((temp - 32) * 5 / 9, 1)\n",
    "    print(f\"The temperature in celsius is: {temp}°C\")\n",
    "\n",
    "else:\n",
    "    print(f\"{unit} is not valid!\")"
   ]
  },
  {
   "cell_type": "code",
   "execution_count": null,
   "id": "e88773ba-0c98-463c-aed7-0c2cfc31782d",
   "metadata": {},
   "outputs": [],
   "source": []
  }
 ],
 "metadata": {
  "kernelspec": {
   "display_name": "Python [conda env:base] *",
   "language": "python",
   "name": "conda-base-py"
  },
  "language_info": {
   "codemirror_mode": {
    "name": "ipython",
    "version": 3
   },
   "file_extension": ".py",
   "mimetype": "text/x-python",
   "name": "python",
   "nbconvert_exporter": "python",
   "pygments_lexer": "ipython3",
   "version": "3.12.4"
  }
 },
 "nbformat": 4,
 "nbformat_minor": 5
}
